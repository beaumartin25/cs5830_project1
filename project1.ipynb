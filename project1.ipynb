{
 "cells": [
  {
   "cell_type": "markdown",
   "metadata": {},
   "source": [
    "# Project 1"
   ]
  },
  {
   "cell_type": "markdown",
   "metadata": {},
   "source": [
    "## What teams spend the most money on players"
   ]
  },
  {
   "cell_type": "code",
   "execution_count": null,
   "metadata": {
    "metadata": {}
   },
   "outputs": [],
   "source": [
    "import pandas as pd\n",
    "import matplotlib.pyplot as plt\n",
    "\n",
    "df_salaries = pd.read_csv(\"core/Salaries.csv\")\n",
    "df_salaries"
   ]
  },
  {
   "cell_type": "code",
   "execution_count": null,
   "metadata": {},
   "outputs": [],
   "source": [
    "df_1985 = df_salaries[df_salaries['yearID'] == 2016]\n",
    "salary_by_team = df_1985.groupby('teamID')['salary'].sum().reset_index()\n",
    "salary_by_team"
   ]
  },
  {
   "cell_type": "code",
   "execution_count": null,
   "metadata": {},
   "outputs": [],
   "source": [
    "plt.figure(figsize=(15, 6))  # Optional: Set the figure size\n",
    "plt.bar(salary_by_team['teamID'], salary_by_team['salary'], color='skyblue')\n",
    "plt.title(f'Total Salaries by Team for Year 2016')\n",
    "plt.xlabel('Team')\n",
    "plt.ylabel('Total Salary')\n",
    "plt.xticks(rotation=45)\n",
    "\n",
    "plt.tight_layout()\n",
    "plt.show()"
   ]
  },
  {
   "cell_type": "code",
   "execution_count": null,
   "metadata": {},
   "outputs": [],
   "source": [
    "df_teams = pd.read_csv(\"core/Teams.csv\")\n",
    "df_1985 = df_teams[df_teams['yearID'] == 2016]\n",
    "df_1985_rank = df_1985[[\"teamID\", \"Rank\", \"name\"]]\n",
    "df_1985_rank.sort_values(by=['Rank'])"
   ]
  },
  {
   "cell_type": "markdown",
   "metadata": {},
   "source": [
    "## How much money was in the league during the years"
   ]
  },
  {
   "cell_type": "code",
   "execution_count": null,
   "metadata": {},
   "outputs": [],
   "source": [
    "salary_max = df_salaries.groupby('yearID')['salary'].max().reset_index()\n",
    "salary_min = df_salaries.groupby('yearID')['salary'].min().reset_index()\n",
    "salary_min = salary_min[salary_min['salary'] != 0]\n",
    "merged_salaries = pd.merge(salary_max, salary_min, on='yearID', suffixes=('_max', '_min'))\n",
    "merged_salaries"
   ]
  },
  {
   "cell_type": "code",
   "execution_count": null,
   "metadata": {},
   "outputs": [],
   "source": [
    "plt.figure(figsize=(10, 6))  # Optional: Set the figure size\n",
    "plt.plot(salary_max['yearID'], salary_max['salary'], color='skyblue', label=\"highest salary\")\n",
    "plt.plot(salary_min['yearID'], salary_min['salary'], color='red', label=\"lowest salary\")\n",
    "plt.title(f'Highest and Lowest Salaries in League per Year')\n",
    "plt.xlabel('Year')\n",
    "plt.ylabel('Total Salary')\n",
    "plt.xticks(rotation=45)\n",
    "plt.legend()\n",
    "\n",
    "plt.tight_layout()\n",
    "plt.show()\n"
   ]
  },
  {
   "cell_type": "markdown",
   "metadata": {},
   "source": [
    "## Are Baseball players Getting better?"
   ]
  },
  {
   "cell_type": "code",
   "execution_count": 74,
   "metadata": {},
   "outputs": [],
   "source": [
    "df_batting = pd.read_csv(\"core/Batting.csv\")\n",
    "df_pitching = pd.read_csv(\"core/Pitching.csv\")\n",
    "\n",
    "hits_by_year = df_batting.groupby('yearID')['H'].sum().reset_index()\n",
    "homeruns_by_year = df_batting.groupby('yearID')['HR'].sum().reset_index()\n",
    "ab_by_year = df_batting.groupby('yearID')['AB'].sum().reset_index()\n",
    "strikes_by_year = df_batting.groupby('yearID')['SO'].sum().reset_index()\n",
    "p_strikes_by_year = df_pitching.groupby('yearID')['SO'].sum().reset_index()"
   ]
  },
  {
   "cell_type": "code",
   "execution_count": null,
   "metadata": {},
   "outputs": [],
   "source": [
    "plt.figure(figsize=(10, 6))\n",
    "plt.plot(hits_by_year['yearID'], 100* hits_by_year['H'] / ab_by_year['AB'], color='skyblue')\n",
    "plt.plot(homeruns_by_year['yearID'], 100* homeruns_by_year['HR'] / ab_by_year['AB'], color='green')\n",
    "plt.plot(p_strikes_by_year['yearID'], 100* p_strikes_by_year['SO'] / ab_by_year['AB'], color='purple')\n",
    "\n",
    "plt.title('Hit percentage and Homerun %')\n",
    "plt.xlabel('Year')\n",
    "plt.ylabel('Hits and HR %')\n",
    "plt.legend(['Hits', 'Homeruns', 'Strikeouts'])\n",
    "\n",
    "plt.axvline(x=1985, color='black', linestyle='--')\n",
    "plt.text(1985, .22, f\"Payment data starts\", color='black', rotation=0, va='center')\n",
    "\n",
    "plt.tight_layout()\n",
    "plt.show()"
   ]
  },
  {
   "cell_type": "markdown",
   "metadata": {},
   "source": [
    "## Strikeouts over the years"
   ]
  },
  {
   "cell_type": "code",
   "execution_count": null,
   "metadata": {},
   "outputs": [],
   "source": [
    "plt.figure(figsize=(10, 6))\n",
    "plt.plot(strikes_by_year['yearID'], 100*strikes_by_year['SO'] / ab_by_year['AB'], color='red')\n",
    "plt.plot(p_strikes_by_year['yearID'], 100*p_strikes_by_year['SO'] / ab_by_year['AB'], color='purple', linestyle='dashed')\n",
    "plt.title('Pitcher and Batter Strikeout %')\n",
    "plt.xlabel('Year')\n",
    "plt.ylabel('Strikeout %')\n",
    "plt.legend(['Batter', 'Pitcher'])\n",
    "\n",
    "# rules gotten from: https://www.baseball-almanac.com/rulechng.shtml\n",
    "plt.axvline(x=1901, color='black', linestyle='--')\n",
    "plt.text(1901, 22, f\"Foul strike\\n rule was\\n adopted\", color='black', rotation=0, va='center')\n",
    "\n",
    "plt.axvline(x=1917, color='black', linestyle='--')\n",
    "plt.text(1917, 17, f\"Spit balls\\n outlawed\", color='black', rotation=0, va='center')\n",
    "\n",
    "plt.axvline(x=1968, color='black', linestyle='--')\n",
    "plt.text(1968, 5, f\"The anti-spitball rule was\\n rewritten and tightened up\", color='black', rotation=0, va='center')\n",
    "\n",
    "plt.tight_layout()\n",
    "plt.show()"
   ]
  }
 ],
 "metadata": {
  "kernelspec": {
   "display_name": "Python 3",
   "language": "python",
   "name": "python3"
  },
  "language_info": {
   "codemirror_mode": {
    "name": "ipython",
    "version": 3
   },
   "file_extension": ".py",
   "mimetype": "text/x-python",
   "name": "python",
   "nbconvert_exporter": "python",
   "pygments_lexer": "ipython3",
   "version": "3.12.0"
  }
 },
 "nbformat": 4,
 "nbformat_minor": 2
}
