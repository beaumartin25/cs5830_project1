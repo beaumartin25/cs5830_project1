{
 "cells": [
  {
   "cell_type": "markdown",
   "metadata": {},
   "source": [
    "# Project 1\n",
    "## What teams spend the most money on players"
   ]
  },
  {
   "cell_type": "code",
   "execution_count": null,
   "metadata": {
    "metadata": {}
   },
   "outputs": [],
   "source": [
    "import pandas as pd\n",
    "import matplotlib.pyplot as plt\n",
    "\n",
    "df_salaries = pd.read_csv(\"core/Salaries.csv\")\n",
    "df_salaries"
   ]
  },
  {
   "cell_type": "code",
   "execution_count": null,
   "metadata": {},
   "outputs": [],
   "source": [
    "df_1985 = df_salaries[df_salaries['yearID'] == 1985]\n",
    "salary_by_team = df_1985.groupby('teamID')['salary'].sum().reset_index()\n",
    "salary_by_team"
   ]
  },
  {
   "cell_type": "code",
   "execution_count": null,
   "metadata": {},
   "outputs": [],
   "source": [
    "plt.figure(figsize=(15, 6))  # Optional: Set the figure size\n",
    "plt.bar(salary_by_team['teamID'], salary_by_team['salary'], color='skyblue')\n",
    "plt.title(f'Total Salaries by Team for Year 1985')\n",
    "plt.xlabel('Team')\n",
    "plt.ylabel('Total Salary')\n",
    "plt.xticks(rotation=45)\n",
    "\n",
    "plt.tight_layout()\n",
    "plt.show()"
   ]
  },
  {
   "cell_type": "code",
   "execution_count": null,
   "metadata": {},
   "outputs": [],
   "source": [
    "df_teams = pd.read_csv(\"core/Teams.csv\")\n",
    "df_teams"
   ]
  },
  {
   "cell_type": "code",
   "execution_count": null,
   "metadata": {},
   "outputs": [],
   "source": [
    "df_1985 = df_teams[df_teams['yearID'] == 1985]\n",
    "df_1985.sort_values(by=['Rank'])"
   ]
  },
  {
   "cell_type": "markdown",
   "metadata": {},
   "source": [
    "### How much money was in the league during the years"
   ]
  },
  {
   "cell_type": "code",
   "execution_count": null,
   "metadata": {},
   "outputs": [],
   "source": [
    "salary_by_year = df_salaries.groupby('yearID')['salary'].sum().reset_index()\n",
    "salary_by_year"
   ]
  },
  {
   "cell_type": "code",
   "execution_count": null,
   "metadata": {},
   "outputs": [],
   "source": [
    "plt.figure(figsize=(10, 6))  # Optional: Set the figure size\n",
    "plt.plot(salary_by_year['yearID'], salary_by_year['salary'], color='skyblue')\n",
    "plt.title(f'Total Salaries in League per Year')\n",
    "plt.xlabel('Year')\n",
    "plt.ylabel('Total Salary')\n",
    "plt.xticks(rotation=45)\n",
    "\n",
    "plt.tight_layout()\n",
    "plt.show()\n"
   ]
  }
 ],
 "metadata": {
  "kernelspec": {
   "display_name": "Python 3",
   "language": "python",
   "name": "python3"
  },
  "language_info": {
   "codemirror_mode": {
    "name": "ipython",
    "version": 3
   },
   "file_extension": ".py",
   "mimetype": "text/x-python",
   "name": "python",
   "nbconvert_exporter": "python",
   "pygments_lexer": "ipython3",
   "version": "3.11.5"
  }
 },
 "nbformat": 4,
 "nbformat_minor": 2
}
